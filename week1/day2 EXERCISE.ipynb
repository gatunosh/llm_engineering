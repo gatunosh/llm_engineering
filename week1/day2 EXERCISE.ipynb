{
 "cells": [
  {
   "cell_type": "markdown",
   "id": "d15d8294-3328-4e07-ad16-8a03e9bbfdb9",
   "metadata": {},
   "source": [
    "# TAREA DE EJERCICIO\n",
    "\n",
    "Actualiza el proyecto del día 1 para resumir una página web y utilizar un modelo de código abierto que se ejecute localmente a través de Ollama en lugar de OpenAI\n",
    "\n",
    "Podrás utilizar esta técnica para todos los proyectos posteriores si prefiere no utilizar API de pago (closed source).\n",
    "\n",
    "**Beneficios:**\n",
    "1. Sin cargos por API: código abierto\n",
    "2. Los datos no salen de su ordenador\n",
    "\n",
    "**Desventajas:**\n",
    "1. Tiene mucha menos potencia (parámetros) que el modelo Frontier\n",
    "\n",
    "## Resumen de la instalación de Ollama\n",
    "\n",
    "¡Simplemente visita [ollama.com](https://ollama.com) e instálalo!\n",
    "\n",
    "Una vez que hayas terminado, el servidor ollama ya debería estar ejecutándose localmente.\n",
    "Si entras en:\n",
    "[http://localhost:11434/](http://localhost:11434/)\n",
    "\n",
    "Debería ver el mensaje `Ollama se está ejecutando`.\n",
    "\n",
    "De lo contrario, abre una nueva Terminal (Mac) o Powershell (Windows) e introduce `ollama serve`.\n",
    "Luego, intenta entrar em [http://localhost:11434/](http://localhost:11434/) nuevamente."
   ]
  },
  {
   "cell_type": "code",
   "execution_count": 1,
   "id": "4e2a9393-7767-488e-a8bf-27c12dca35bd",
   "metadata": {},
   "outputs": [],
   "source": [
    "# imports\n",
    "\n",
    "import requests\n",
    "from bs4 import BeautifulSoup\n",
    "from IPython.display import Markdown, display"
   ]
  },
  {
   "cell_type": "code",
   "execution_count": 7,
   "id": "29ddd15d-a3c5-4f4e-a678-873f56162724",
   "metadata": {},
   "outputs": [],
   "source": [
    "# Constantes\n",
    "\n",
    "OLLAMA_API = \"http://localhost:11434/api/chat\"\n",
    "HEADERS = {\"Content-Type\": \"application/json\"}\n",
    "MODEL = \"llama3.2:3b\""
   ]
  },
  {
   "cell_type": "code",
   "execution_count": 8,
   "id": "dac0a679-599c-441f-9bf2-ddc73d35b940",
   "metadata": {},
   "outputs": [],
   "source": [
    "# Crea una lista de mensajes utilizando el mismo formato que usamos para OpenAI\n",
    "\n",
    "messages = [\n",
    "    {\"role\": \"user\", \"content\": \"Describe algunas de las aplicaciones comerciales de la IA generativa.\"}\n",
    "]"
   ]
  },
  {
   "cell_type": "code",
   "execution_count": 9,
   "id": "7bb9c624-14f0-4945-a719-8ddb64f66f47",
   "metadata": {},
   "outputs": [],
   "source": [
    "payload = {\n",
    "        \"model\": MODEL,\n",
    "        \"messages\": messages,\n",
    "        \"stream\": False\n",
    "    }"
   ]
  },
  {
   "cell_type": "code",
   "execution_count": 10,
   "id": "42b9f644-522d-4e05-a691-56e7658c0ea9",
   "metadata": {},
   "outputs": [
    {
     "name": "stdout",
     "output_type": "stream",
     "text": [
      "La inteligencia artificial (IA) generativa es un campo en constante evolución que se refiere a la creación de contenido y productos mediante algoritmos informáticos. A continuación, se presentan algunas de las aplicaciones comerciales más destacadas de la IA generativa:\n",
      "\n",
      "1. **Generación de contenido**: La IA generativa se utiliza para crear contenido automático, como artículos de blogs, artículos de noticias, publicaciones en redes sociales y más.\n",
      "\n",
      "2.**Modelos personalizados**: La IA generativa permite crear modelos personalizados que imitan el estilo y la voz de los clientes, lo que ayuda a mejorar las experiencias del cliente.\n",
      "\n",
      "3. **Marketing automatizado**: Se utiliza para crear anuncios personalizados, como publicidad en redes sociales y emails.\n",
      "\n",
      "4.**Diseño de productos**: La IA generativa se utiliza en el diseño de productos, creando prototipos y patrones que ayudan a los diseñadores a mejorar la eficiencia del proceso.\n",
      "\n",
      "5. **Generación de música y audio**: Se utiliza para crear música y sonidos personalizados para películas, videojuegos, y publicidad.\n",
      "\n",
      "6. **Creación de arte**: La IA generativa permite crear obras de arte únicas y personalizadas que pueden ser vendidas o utilizadas en proyectos comerciales.\n",
      "\n",
      "7.**Visualización de datos**: Se utiliza para crear gráficos y visualizaciones de datos que ayudan a los analistas a comprender mejor los patrones y tendencias en los datos.\n",
      "\n",
      "8. **Assistentes virtuales**: La IA generativa se utiliza para crear asistentes virtuales que pueden interactuar con los clientes y proporcionar respuestas personalizadas a sus preguntas.\n",
      "\n",
      "9.**Automatización de procesos**: Se utiliza para automatizar tareas repetitivas, como la generación de informes, la creación de documentos y más.\n",
      "\n",
      "10. **Análisis de texto**: La IA generativa permite analizar grandes cantidades de texto para extraer información relevante y proporcionar recomendaciones personalizadas a los clientes.\n",
      "\n",
      "En resumen, la IA generativa tiene un impacto significativo en diversas industrias comerciales, permitiendo a las empresas crear contenido, productos y experiencias más personalizadas y eficientes.\n"
     ]
    }
   ],
   "source": [
    "response = requests.post(OLLAMA_API, json=payload, headers=HEADERS)\n",
    "print(response.json()['message']['content'])"
   ]
  },
  {
   "cell_type": "markdown",
   "id": "6a021f13-d6a1-4b96-8e18-4eae49d876fe",
   "metadata": {},
   "source": [
    "# Presentación del paquete ollama\n",
    "\n",
    "Ahora haremos lo mismo, pero utilizando el elegante paquete de Python ollama en lugar de una llamada HTTP directa.\n",
    "\n",
    "En esencia, se realiza la misma llamada que se indicó anteriormente al servidor ollama que se ejecuta en localhost:11434"
   ]
  },
  {
   "cell_type": "code",
   "execution_count": null,
   "id": "7745b9c4-57dc-4867-9180-61fa5db55eb8",
   "metadata": {
    "scrolled": true
   },
   "outputs": [],
   "source": [
    "import ollama\n",
    "\n",
    "response = ollama.chat(model=MODEL, messages=messages)\n",
    "print(response['message']['content'])"
   ]
  },
  {
   "cell_type": "markdown",
   "id": "9891d55a-0b77-499d-b441-58d70f96373b",
   "metadata": {},
   "source": [
    "# AHORA el ejercicio para ti\n",
    "\n",
    "Toma el código del día 1 e incorpóralo aquí para crear un resumidor de sitios web que use Llama 3.2 ejecutándose localmente en lugar de OpenAI"
   ]
  },
  {
   "cell_type": "code",
   "execution_count": 1,
   "id": "4a3d6881-35af-469e-a8ff-a8b62b721d95",
   "metadata": {},
   "outputs": [],
   "source": [
    "import requests\n",
    "from bs4 import BeautifulSoup\n",
    "from IPython.display import Markdown, display\n",
    "import ollama"
   ]
  },
  {
   "cell_type": "code",
   "execution_count": 2,
   "id": "fd16cde2-a258-4067-b583-7cbf6deb4a5f",
   "metadata": {},
   "outputs": [],
   "source": [
    "# Constantes\n",
    "\n",
    "OLLAMA_API = \"http://localhost:11434/api/chat\"\n",
    "HEADERS = {\"Content-Type\": \"application/json\"}\n",
    "MODEL = \"llama3.2:3b\""
   ]
  },
  {
   "cell_type": "code",
   "execution_count": 3,
   "id": "5d19bb4f-e3a2-45bb-912b-729e695a7055",
   "metadata": {},
   "outputs": [],
   "source": [
    "class Website:\n",
    "    \"\"\"\n",
    "    Una clase de utilidad para representar un sitio web que hemos scrappeado\n",
    "    \"\"\"\n",
    "\n",
    "    def __init__(self, url):\n",
    "        \"\"\"\n",
    "        Crea este objeto de sitio web a partir de la URL indicada utilizando la biblioteca BeautifulSoup\n",
    "        \"\"\"\n",
    "        self.url = url\n",
    "        response = requests.get(url)\n",
    "        soup = BeautifulSoup(response.content, 'html.parser')\n",
    "        self.title = soup.title.string if soup.title else \"No tiene título\"\n",
    "        for irrelevant in soup.body([\"script\", \"style\", \"img\", \"input\"]):\n",
    "            irrelevant.decompose()\n",
    "        self.text = soup.body.get_text(separator=\"\\n\", strip=True)"
   ]
  },
  {
   "cell_type": "code",
   "execution_count": 4,
   "id": "c650503d-f0ab-41f8-8f6f-1f24e8d12816",
   "metadata": {},
   "outputs": [],
   "source": [
    "def user_prompt_for(website):\n",
    "    user_prompt = f\"Estás viendo un sitio web titulado {website.title}\"\n",
    "    user_prompt += \"\\nEl contenido de este sitio web es el siguiente; \\\n",
    "    proporciona un breve resumen de este sitio web en formato Markdown. \\\n",
    "    Si incluye noticias, productos o anuncios, resúmelos también.\\n\\n\"\n",
    "    user_prompt += website.text\n",
    "    return user_prompt"
   ]
  },
  {
   "cell_type": "code",
   "execution_count": 5,
   "id": "a85c62ad-830e-4d98-9c11-c0e2b3b223dd",
   "metadata": {},
   "outputs": [],
   "source": [
    "def messages_for(website):\n",
    "    return [\n",
    "        {\"role\": \"user\", \"content\": user_prompt_for(website)}\n",
    "    ]"
   ]
  },
  {
   "cell_type": "code",
   "execution_count": 11,
   "id": "85b16a2f-0e60-4770-beb6-d7fc6e384cd9",
   "metadata": {},
   "outputs": [],
   "source": [
    "def summarize(url):\n",
    "    website = Website(url)\n",
    "    response = ollama.chat(model=MODEL, messages=messages_for(website))\n",
    "    return response['message']['content']"
   ]
  },
  {
   "cell_type": "code",
   "execution_count": 7,
   "id": "2f1d6bad-2949-4eb8-ad99-c93203f4adfd",
   "metadata": {},
   "outputs": [],
   "source": [
    "def display_summary(url):\n",
    "    summary = summarize(url)\n",
    "    display(Markdown(summary))"
   ]
  },
  {
   "cell_type": "code",
   "execution_count": 12,
   "id": "b960bf77-6082-4f97-a00d-b33b0a25a71d",
   "metadata": {},
   "outputs": [
    {
     "data": {
      "text/markdown": [
       "Froggames es una plataforma de aprendizaje en línea que ofrece cursos y recursos educativos en una variedad de temas, incluyendo matemáticas, lenguajes de programación, emprendimiento, análisis de datos, inteligencia artificial, desarrollo de videojuegos, blockchain, entre otros. La plataforma fue fundada por Juan Gabriel Gomila, licenciado en matemáticas y máster en educación, con el objetivo de proporcionar oportunidades de formación a personas de todo el mundo.\n",
       "\n",
       "Algunas de las características y beneficios de Froggames incluyen:\n",
       "\n",
       "*   **Cursos gratuitos**: Frogames ofrece cursos gratuitos para que los estudiantes puedan empezar desde cero y explorar diferentes temas.\n",
       "*   **Comunidad de estudiantes**: La plataforma cuenta con una comunidad activa de estudiantes que pueden conectarse, compartir conocimientos y experiencias, y apoyarse mutuamente en su aprendizaje.\n",
       "*   **Certificados blockchain**: Froggames ofrece certificados blockchain para los estudiantes que completan sus cursos y demuestran su habilidad en un tema específico.\n",
       "*   **Competencias y premios**: La plataforma organiza competencias y premios para fomentar la creatividad, la innovación y el aprendizaje continuo de los estudiantes.\n",
       "*   **Formación para empresas**: Froggames también ofrece cursos y recursos educativos para empresas que desean mejorar sus habilidades en áreas como el análisis de datos, inteligencia artificial, desarrollo de videojuegos, entre otros.\n",
       "\n",
       "En resumen, Froggames es una plataforma de aprendizaje en línea que ofrece oportunidades de formación a personas de todo el mundo. Con cursos gratuitos, una comunidad activa de estudiantes, certificados blockchain y competencias y premios, Froggames busca fomentar la educación y el desarrollo profesional en una variedad de temas."
      ],
      "text/plain": [
       "<IPython.core.display.Markdown object>"
      ]
     },
     "metadata": {},
     "output_type": "display_data"
    }
   ],
   "source": [
    "display_summary(\"https://cursos.frogamesformacion.com\")"
   ]
  },
  {
   "cell_type": "code",
   "execution_count": null,
   "id": "5a621a13-8060-4226-be22-f3aebdf9bc16",
   "metadata": {},
   "outputs": [],
   "source": []
  }
 ],
 "metadata": {
  "kernelspec": {
   "display_name": "Python 3 (ipykernel)",
   "language": "python",
   "name": "python3"
  },
  "language_info": {
   "codemirror_mode": {
    "name": "ipython",
    "version": 3
   },
   "file_extension": ".py",
   "mimetype": "text/x-python",
   "name": "python",
   "nbconvert_exporter": "python",
   "pygments_lexer": "ipython3",
   "version": "3.11.5"
  }
 },
 "nbformat": 4,
 "nbformat_minor": 5
}
