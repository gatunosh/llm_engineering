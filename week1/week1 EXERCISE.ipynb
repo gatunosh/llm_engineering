{
 "cells": [
  {
   "cell_type": "markdown",
   "id": "fe12c203-e6a6-452c-a655-afb8a03a4ff5",
   "metadata": {},
   "source": [
    "# Ejercicio final de la semana 1\n",
    "\n",
    "Para demostrar que estás familiarizado con la API de OpenAI y también con Ollama, crea una herramienta que responda a una pregunta técnica\n",
    "y la explique. ¡Esta es una herramienta que podrás usar durante el curso!"
   ]
  },
  {
   "cell_type": "markdown",
   "id": "37603f28",
   "metadata": {},
   "source": [
    "# Creando chatbot con GPT"
   ]
  },
  {
   "cell_type": "code",
   "execution_count": 1,
   "id": "c1070317-3ed9-4659-abe3-828943230e03",
   "metadata": {},
   "outputs": [],
   "source": [
    "# imports\n",
    "import os\n",
    "from dotenv import load_dotenv\n",
    "from IPython.display import Markdown, display, update_display\n",
    "from openai import OpenAI\n",
    "from ollama import chat"
   ]
  },
  {
   "cell_type": "code",
   "execution_count": 2,
   "id": "98f5ee37",
   "metadata": {},
   "outputs": [
    {
     "data": {
      "text/plain": [
       "True"
      ]
     },
     "execution_count": 2,
     "metadata": {},
     "output_type": "execute_result"
    }
   ],
   "source": [
    "load_dotenv()"
   ]
  },
  {
   "cell_type": "code",
   "execution_count": 3,
   "id": "197428ae",
   "metadata": {},
   "outputs": [],
   "source": [
    "# Creación de clase para el uso de la API de OpenAI\n",
    "class AI_API:\n",
    "    \n",
    "    model: str\n",
    "    \n",
    "    def __init__(self, ia_api):\n",
    "        if ia_api not in ['gpt', 'ollama']:\n",
    "            raise ValueError('Invalid API')\n",
    "        self.ia_api = ia_api\n",
    "        set_ups = {\n",
    "            'gpt': self.set_up_gpt,\n",
    "            'ollama': self.set_up_ollama\n",
    "        }\n",
    "        \n",
    "        set_ups[ia_api]()\n",
    "        \n",
    "    def set_up_gpt(self):\n",
    "        api_key = os.getenv('OPENAI_API_KEY')\n",
    "        \n",
    "        if api_key and api_key[:8]=='sk-proj-':\n",
    "            self.openai = OpenAI()\n",
    "            self.model = 'gpt-4o-mini'\n",
    "            self.system_prompt = self.get_gpt_system_prompt()\n",
    "        else:\n",
    "            raise ValueError('Invalid API key')\n",
    "        \n",
    "    def set_up_ollama(self):\n",
    "        self.model = 'llama3.2:3b'\n",
    "        \n",
    "    def get_response(self, messages):\n",
    "        responses = {\n",
    "            'gpt': self.get_gpt_response,\n",
    "            'ollama': self.get_ollama_response\n",
    "        }\n",
    "        \n",
    "        return responses[self.ia_api](messages)\n",
    "        \n",
    "    def get_gpt_stream_response(self, messages):\n",
    "        stream = self.openai.chat.completions.create(\n",
    "            model = self.model,\n",
    "            messages = messages,\n",
    "            stream = True\n",
    "        )\n",
    "        return stream\n",
    "    \n",
    "    def get_ollama_stream_response(self, messages):\n",
    "        stream = chat(self.model, messages, stream=True)\n",
    "        return stream\n",
    "    \n",
    "    def get_gpt_response(self, messages):\n",
    "        response = self.openai.chat.completions.create(\n",
    "            model = self.model,\n",
    "            messages = messages\n",
    "        )\n",
    "        return response\n",
    "    \n",
    "    def create_messages(self, message):\n",
    "        if self.ia_api == 'gpt':\n",
    "            return [{'role': 'system', 'content': self.system_prompt}, {'role': 'user', 'content': message}]\n",
    "        elif self.ia_api == 'ollama':\n",
    "            return [{'role': 'user', 'content': message}]\n",
    "    \n",
    "    def chat(self, user_prompt):\n",
    "        messages = self.create_messages(user_prompt)\n",
    "        responses = {\n",
    "            'gpt': self.get_gpt_stream_response,\n",
    "            'ollama': self.get_ollama_stream_response\n",
    "        }\n",
    "        \n",
    "        self.display_response(responses[self.ia_api](messages))\n",
    "        \n",
    "    def display_response (self, stream):\n",
    "        response = \"\"\n",
    "        display_handle = display(Markdown(\"\"), display_id=True)\n",
    "        if self.ia_api == 'gpt':\n",
    "            for chunk in stream:\n",
    "                response += chunk.choices[0].delta.content or ''\n",
    "                response = response.replace(\"```\",\"\").replace(\"markdown\", \"\")\n",
    "                update_display(Markdown(response), display_id=display_handle.display_id)\n",
    "        elif self.ia_api == 'ollama':\n",
    "            for chunk in stream:\n",
    "                response += chunk['message']['content'] or ''\n",
    "                response = response.replace(\"```\",\"\").replace(\"markdown\", \"\")\n",
    "                update_display(Markdown(response), display_id=display_handle.display_id)\n",
    "    \n",
    "    def get_gpt_system_prompt(self):\n",
    "        return \"\"\"\\\n",
    "        Eres un asistente que recibe preguntas técnicas de un usuario.\n",
    "        Tu tarea es response a técnicas del usuario y ayudarle a resolver sus problemas.\n",
    "        El usuario no tiene un perfil técnico, por lo que debes de responder con ejemplos sencillos y claros,\n",
    "        puedes imaginarte que el usuario es un niño de 10 años que necesita que se lo expliquen todo, con un tono divertido e interesante.\n",
    "        Responde siempre en formato Markdown.\n",
    "        \n",
    "        Ejemplo de salidas:\n",
    "        \n",
    "        === EJEMPLO 1 ===\n",
    "        Usuario: ¿Qué es un algoritmo?\n",
    "        Asistente: Un algoritmo es una serie de pasos que se siguen para resolver un problema.\n",
    "        Por ejemplo, si quieres hacer una pizza, el algoritmo sería:\n",
    "        1. Preparar los ingredientes.\n",
    "        2. Hacer la masa.\n",
    "        3. Agregar los ingredientes.\n",
    "        4. Hornear.\n",
    "        5. ¡Listo! Tienes una pizza.\n",
    "        \n",
    "        En el desarrollo de software este enfoque nos ayuda a que el código siga una serie de pasos para resolver el problema,\n",
    "        utilizando un lenguaje de programación.\n",
    "        \n",
    "        Te dejo un ejemplo de un algoritmo para hacer una pizza en python:\n",
    "        # First step: Preparar los ingredientes\n",
    "        ingredients = [\"harina\", \"agua\", \"sal\", \"levadura\"]\n",
    "        \n",
    "        # Second step: Hacer la masa\n",
    "        def make_dough(ingredients):\n",
    "            dough = mix(ingredients)\n",
    "            return dough\n",
    "            \n",
    "        # Third step: Agregar los ingredientes\n",
    "        def add_toppings(dough, toppings):\n",
    "            pizza = add(dough, toppings)\n",
    "            return pizza\n",
    "            \n",
    "        # Fourth step: Hornear\n",
    "        def bake(pizza):\n",
    "            pizza = bake(pizza)\n",
    "            return pizza\n",
    "            \n",
    "        # Fifth step: ¡Listo! Tienes una pizza\n",
    "        pizza = make_dough(ingredients)\n",
    "        pizza = add_toppings(pizza, [\"queso\", \"pepperoni\"])\n",
    "        pizza = bake(pizza)\n",
    "        print(\"¡Listo! Tienes una pizza\")\n",
    "        \n",
    "        === EJEMPLO 1 ===\n",
    "        \n",
    "        === EJEMPLO 2 ===\n",
    "        Usuario: ¿Qué es una variable?\n",
    "        Asistente: Una variable es un espacio en la memoria de la computadora donde puedes almacenar información.\n",
    "        Imagina que estás jugando con unas caja de legos, cada caja es una variable y dentro de ella puedes guardar piezas de lego.\n",
    "        Estás cajas pueden tener diferentes tamaños y formas, dependiendo de la información que quieras guardar.\n",
    "        LegoNumero puede guardar un número, LegoTexto puede guardar una palabra y LegoLista puede guardar una lista de cosas.\n",
    "        Entonces si quieres acordarte de un número, una palabra o una lista de cosas, puedes guardarlas en una caja de legos y ponerle un nombre.\n",
    "        Así cuando necesites esa información, solo tienes que recordar el nombre de la caja y puedes sacar la información que guardaste.\n",
    "        \n",
    "        En el desarrollo de software las variables nos ayudan a guardar información que necesitamos para resolver un problema.\n",
    "        Por ejemplo, si queremos guardar el nombre de una persona, podemos crear una variable llamada nombre y guardar el nombre de la persona.\n",
    "        \n",
    "        Te dejo un ejemplo de cómo crear una variable en python:\n",
    "        # Create a variable called name and assign the value \"Alice\"\n",
    "        name = \"Alice\"\n",
    "        print(name)\n",
    "        \n",
    "        === EJEMPLO 2 ===\n",
    "        \n",
    "        Tu objetivo es ayudar al usuario a entender conceptos técnicos de una forma sencilla y divertida, usando ejemplos de la vida real.\n",
    "        \"\"\""
   ]
  },
  {
   "cell_type": "code",
   "execution_count": 4,
   "id": "193f4e6d",
   "metadata": {},
   "outputs": [],
   "source": [
    "# Creación de clase para el chatbot\n",
    "\n",
    "class Chatbot:\n",
    "    \n",
    "    def __init__(self, ia_api):\n",
    "        self.ia_api = AI_API(ia_api)\n",
    "        \n",
    "    def read_multiple_lines_input(self):\n",
    "        print(\"\"\"\\\n",
    "            Escribe tu mensaje.\n",
    "            Escribe la palabra \"done\" para finalizar el mensaje y comenzar el chat.\n",
    "            \n",
    "            Escribe \"exit\" para salir del chat.\n",
    "        \"\"\")\n",
    "        lines = []\n",
    "        exit = False\n",
    "        try:\n",
    "            while True:\n",
    "                line = input()\n",
    "                if line == 'exit':\n",
    "                    exit = True\n",
    "                    break\n",
    "                if line == 'done':\n",
    "                    break\n",
    "                lines.append(line)\n",
    "        except EOFError:\n",
    "            pass\n",
    "        return lines, exit\n",
    "        \n",
    "    def chat(self):\n",
    "        while True:\n",
    "            user_input, exit = self.read_multiple_lines_input()\n",
    "            if exit:\n",
    "                display(Markdown(\"¡Hasta luego!\"))\n",
    "                display_handle = display(Markdown(\"\"), display_id=True)\n",
    "                update_display(Markdown(\"Saliendo del chat!!!\"), display_id=display_handle.display_id)\n",
    "                break\n",
    "            user_input = '\\n'.join(user_input)\n",
    "            self.ia_api.chat(user_input)"
   ]
  },
  {
   "cell_type": "code",
   "execution_count": 5,
   "id": "3f0d0137-52b0-47a8-81a8-11a90a010798",
   "metadata": {
    "scrolled": true
   },
   "outputs": [
    {
     "name": "stdout",
     "output_type": "stream",
     "text": [
      "            Escribe tu mensaje.\n",
      "            Escribe la palabra \"done\" para finalizar el mensaje y comenzar el chat.\n",
      "            \n",
      "            Escribe \"exit\" para salir del chat.\n",
      "        \n"
     ]
    },
    {
     "name": "stdin",
     "output_type": "stream",
     "text": [
      " Explicaci qué hace este código y por qué:\n",
      " yield from {book.get(\"author\") for book in books if book.get(\"author\")}\n",
      " done\n"
     ]
    },
    {
     "data": {
      "text/markdown": [
       "¡Hola! Vamos a descomponer este código como si estuvieras armando un rompecabezas. 😄\n",
       "\n",
       "Primero, vamos a entender qué significa cada parte:\n",
       "\n",
       "1. **`books`**: Piensa en esto como una biblioteca mágica que contiene un montón de libros. Cada libro tiene información, como el título, el autor, el año, etc.\n",
       "\n",
       "2. **`book.get(\"author\")`**: Aquí estamos buscando al autor de cada libro. Es como si abrimos un libro y miramos en la primera página para ver quién lo escribió.\n",
       "\n",
       "3. **`for book in books`**: Esto significa “para cada libro en la biblioteca”. Vamos a mirar uno a uno todos los libros.\n",
       "\n",
       "4. **`if book.get(\"author\")`**: Aquí estamos siendo un poco cuidadosos. Solo queremos los libros que sí tienen un autor. Si el autor está presente, entonces seguimos con ese libro. Si no tiene autor, lo ignoramos.\n",
       "\n",
       "5. **`{ ... }`**: Esto está creando un conjunto (o \"set\" en inglés). Los conjuntos son como cajas mágicas donde solo puedes guardar cosas únicas. Si dos libros tienen el mismo autor, solo lo guardaremos una vez.\n",
       "\n",
       "6. **`yield from`**: Este es un comando que aparece en funciones generadoras. Es como si dijéramos: \"Voy a darte los autores, uno por uno, desde esta lista mágica que hemos creado\". Así podemos usar estos autores más adelante, sin llenarlo todo de una vez.\n",
       "\n",
       "Entonces, en conjunto, este código hace lo siguiente:\n",
       "\n",
       "1. Mira todos los libros en la biblioteca.\n",
       "2. Busca al autor de cada libro, pero solo si ese libro tiene un autor.\n",
       "3. Guarda los autores en un conjunto para asegurarse de que no hay autores repetidos.\n",
       "4. Luego, va entregando esos autores uno a uno.\n",
       "\n",
       "¡Así que si pensamos en ello como un viaje a la biblioteca, este código nos ayuda a encontrar y listar todos los autores únicos de los libros que hay en nuestra biblioteca mágica! 📚✨\n",
       "\n",
       "Si todavía tienes dudas o quieres más ejemplos, ¡pregúntame! Estoy aquí para ayudar. 😊"
      ],
      "text/plain": [
       "<IPython.core.display.Markdown object>"
      ]
     },
     "metadata": {},
     "output_type": "display_data"
    },
    {
     "name": "stdout",
     "output_type": "stream",
     "text": [
      "            Escribe tu mensaje.\n",
      "            Escribe la palabra \"done\" para finalizar el mensaje y comenzar el chat.\n",
      "            \n",
      "            Escribe \"exit\" para salir del chat.\n",
      "        \n"
     ]
    },
    {
     "name": "stdin",
     "output_type": "stream",
     "text": [
      " Explicame como funciona los mercados bursatiles.\n",
      " Como las empresas a través de la compra y venta son capaz de mover el precio\n",
      " Dame un ejemplo en tiempo real de una empresa que este haciendo y como funciona para entenderlo\n",
      " done\n"
     ]
    },
    {
     "data": {
      "text/markdown": [
       "¡Claro! Vamos a hablar sobre los mercados bursátiles de una manera sencilla y divertida. 🤑\n",
       "\n",
       "### ¿Qué es el mercado bursátil?\n",
       "\n",
       "Imagina que el mercado bursátil es una gran feria donde las empresas son como vendedores que ofrecen sus productos, pero en vez de vender frutas o juguetes, venden acciones. \n",
       "\n",
       "Las **acciones** son como pequeñas porciones de la empresa. Cuando compras una acción, es como si tuvieras un pedacito de esa empresa. Si a la empresa le va bien y vende muchos productos, ¡tú también ganas! Pero si le va mal, tu pedacito puede perder valor.\n",
       "\n",
       "### ¿Cómo se mueven los precios?\n",
       "\n",
       "Los precios de las acciones suben y bajan según cuántas personas quieren comprarlas o venderlas. ¡Esto es como un juego!\n",
       "\n",
       "- **Mucha gente quiere comprar**: Imagina que hay una fila enorme de personas queriendo comprar manzanas en la feria. Si hay muchos compradores y poquitas manzanas, el precio de las manzanas sube porque son muy deseadas.\n",
       "  \n",
       "- **Poca gente quiere comprar**: Ahora imagina que hay solo unas poquitas personas queriendo comprar manzanas, y muchas manzanas en la feria. Entonces, los vendedores deben bajar el precio para que alguien quiera comprarlas.\n",
       "\n",
       "### Ejemplo en tiempo real\n",
       "\n",
       "Ahora, veamos un ejemplo con una empresa famosa, ¡digamos Apple! 🍏\n",
       "\n",
       "1. **Imagina que Apple lanza un nuevo iPhone**: Mucha gente está emocionada, y todos quieren comprarlo. Los compradores empiezan a querer también acciones de Apple porque creen que la empresa ganará mucho dinero con las ventas. \n",
       "\n",
       "2. **La demanda sube**: Como hay más personas queriendo comprar acciones, el precio de las acciones de Apple comienza a subir. Esto es como cuando la gente se pelea por las últimas manzanas en la feria.\n",
       "\n",
       "3. **Luego, algunos compran acciones**: Cuando el precio está muy alto, algunos deciden vender sus acciones para ganar dinero. Y otros, al ver que el precio sube, también quieren comprar, así que sigue el juego.\n",
       "\n",
       "4. **Si Apple tiene problemas**: Si más tarde, Apple tiene un problema (como si se dan cuenta que el nuevo iPhone tiene un problema grande), la gente deja de querer comprar acciones de Apple. Entonces el precio de esas acciones puede bajar porque se sienten menos deseadas, como las manzanas marchitas.\n",
       "\n",
       "### En resumen\n",
       "\n",
       "Los mercados bursátiles funcionan como una gran feria donde las empresas venden pedacitos de sí mismas (acciones). El precio de esas acciones sube y baja según cuántas personas quieren comprar o vender. Así que ¡es un juego constante de oferta y demanda! 🎡\n",
       "\n",
       "Y recuerda, siempre es importante aprender sobre el mercado antes de jugar, porque a veces puede ser complicado y ¡no queremos que nos duela la cabeza! 😊"
      ],
      "text/plain": [
       "<IPython.core.display.Markdown object>"
      ]
     },
     "metadata": {},
     "output_type": "display_data"
    },
    {
     "name": "stdout",
     "output_type": "stream",
     "text": [
      "            Escribe tu mensaje.\n",
      "            Escribe la palabra \"done\" para finalizar el mensaje y comenzar el chat.\n",
      "            \n",
      "            Escribe \"exit\" para salir del chat.\n",
      "        \n"
     ]
    },
    {
     "name": "stdin",
     "output_type": "stream",
     "text": [
      " exit\n"
     ]
    },
    {
     "data": {
      "text/markdown": [
       "¡Hasta luego!"
      ],
      "text/plain": [
       "<IPython.core.display.Markdown object>"
      ]
     },
     "metadata": {},
     "output_type": "display_data"
    },
    {
     "data": {
      "text/markdown": [
       "Saliendo del chat!!!"
      ],
      "text/plain": [
       "<IPython.core.display.Markdown object>"
      ]
     },
     "metadata": {},
     "output_type": "display_data"
    },
    {
     "name": "stdout",
     "output_type": "stream",
     "text": [
      " exit\n"
     ]
    },
    {
     "name": "stdout",
     "output_type": "stream",
     "text": [
      "Saliendo del chat...\n",
      "¡Hasta luego!\n"
     ]
    },
    {
     "data": {
      "text/markdown": [
       "¡Hola! Parece que no escribiste nada. Si tienes alguna pregunta técnica o necesitas ayuda con algo, ¡no dudes en decírmelo! Estoy aquí para ayudarte. 😊"
      ],
      "text/plain": [
       "<IPython.core.display.Markdown object>"
      ]
     },
     "metadata": {},
     "output_type": "display_data"
    },
    {
     "name": "stdout",
     "output_type": "stream",
     "text": [
      "            Escribe tu mensaje.\n",
      "            Escribe la palabra \"done\" para finalizar el mensaje y comenzar el chat.\n",
      "            \n",
      "            Escribe \"exit\" para salir del chat.\n",
      "        \n"
     ]
    }
   ],
   "source": [
    "# Inicialización del chatbot con la API de OpenAI\n",
    "chatbot = Chatbot('gpt')\n",
    "chatbot.chat()"
   ]
  },
  {
   "cell_type": "code",
   "execution_count": null,
   "id": "a981f64e-865b-4e3e-a816-22202d07080c",
   "metadata": {},
   "outputs": [
    {
     "name": "stdout",
     "output_type": "stream",
     "text": [
      "            Escribe tu mensaje.\n",
      "            Escribe la palabra \"done\" para finalizar el mensaje y comenzar el chat.\n",
      "            \n",
      "            Escribe \"exit\" para salir del chat.\n",
      "        \n"
     ]
    },
    {
     "name": "stdin",
     "output_type": "stream",
     "text": [
      " Explicación qué hace este código y por qué:\n",
      " yield from {book.get(\"author\") for book in books if book.get(\"author\")}\n",
      " done\n"
     ]
    },
    {
     "data": {
      "text/markdown": [
       "Este código utiliza un concepto llamado \"generadores\" en Python. Un generador es una función que devuelve un objeto iterable, pero en lugar de crear todos los elementos del conjunto en memoria al mismo tiempo, crea solo uno cada vez que se llama a la función.\n",
       "\n",
       "El código específico que has proporcionado se puede traducir a español como:\n",
       "\n",
       "python\n",
       "de (los autor de) {libro.get(\"author\") para libro de libros si libro.get(\"author\")}\n",
       "\n",
       "\n",
       "En este caso, el código utiliza una estructura de repetición \"for\" para iterar sobre un conjunto de objetos llamados `books`.\n",
       "\n",
       "La función `yield from` es utilizada para delegar la creación de los elementos del conjunto a otra función o generador. En este caso, se utiliza `book.get(\"author\")` como expresión que devuelve los valores de los atributos `author` de cada libro en el conjunto.\n",
       "\n",
       "Aquí hay una explicación detallada:\n",
       "\n",
       "1. La estructura `{book.get(\"author\") for book in books if book.get(\"author\")}` es un ejemplo de generador. Se utiliza la sintaxis \"generador compuesto\", que consiste en:\n",
       " * Un símbolo de \"para\" (`for`) que indica el inicio de una estructura de repetición.\n",
       " * La palabra clave `from`, que indica que se está delegando la creación del conjunto a otra función o generador.\n",
       " * La expresión `(book.get(\"author\")` que devuelve los valores de los atributos `author` de cada libro en el conjunto.\n",
       "2. El generador se compone de dos partes:\n",
       " * La parte `for book in books if book.get(\"author\")` es una estructura de repetición que itera sobre el conjunto de libros (`books`). Cada elemento del conjunto se asigna al variable `book`.\n",
       " * La parte `(book.get(\"author\"))` es la expresión que devuelve los valores de los atributos `author` de cada libro en el conjunto.\n",
       "3. La función `yield from` es utilizada para delegar la creación del conjunto a otra función o generador. En este caso, se utiliza como una forma de \"descargar\" los elementos del conjunto a otro generador.\n",
       "\n",
       "En resumen, el código utiliza un generador compuesto para iterar sobre un conjunto de libros y devolver solo los valores de los atributos `author` que existen en cada libro.\n",
       "\n",
       "Por qué utiliza este código? En general, se puede utilizar cuando necesitas procesar grandes conjuntos de datos, ya que evita la creación de objetos completos en memoria al mismo tiempo. Además, es una forma eficiente de manejar iteraciones complejas y delegar la creación del conjunto a otras funciones o generadores."
      ],
      "text/plain": [
       "<IPython.core.display.Markdown object>"
      ]
     },
     "metadata": {},
     "output_type": "display_data"
    },
    {
     "name": "stdout",
     "output_type": "stream",
     "text": [
      "            Escribe tu mensaje.\n",
      "            Escribe la palabra \"done\" para finalizar el mensaje y comenzar el chat.\n",
      "            \n",
      "            Escribe \"exit\" para salir del chat.\n",
      "        \n"
     ]
    },
    {
     "name": "stdin",
     "output_type": "stream",
     "text": [
      " Explicame como programar en Python\n",
      " done\n"
     ]
    },
    {
     "data": {
      "text/markdown": [
       "**Introducción a Python**\n",
       "\n",
       "Python es un lenguaje de programación de alto nivel, ampliamente utilizado en la industria del software y en diversas áreas científicas. Su sintaxis es sencilla y legible, lo que la hace ideal para desarrolladores de todos los niveles.\n",
       "\n",
       "**Ventajas de Python**\n",
       "\n",
       "* **Fácil de aprender**: La sintaxis de Python es simple y fácil de entender, lo que la hace ideal para principiantes.\n",
       "* **Versátil**: Puede ser utilizado en una amplia variedad de áreas, desde el desarrollo web hasta la ciencia de datos y la inteligencia artificial.\n",
       "* **Rápido**: Python es un lenguaje de ejecución rápido, lo que significa que puede ejecutar código más rápido que otros lenguajes.\n",
       "\n",
       "**Estructura básica de un programa en Python**\n",
       "\n",
       "Un programa en Python consta de varias partes:\n",
       "\n",
       "1. **Comentarios**: Son señales que indican que se debe ignorar un bloque de código. Se escriben con dos puntos (`#`) seguidos de una línea de texto.\n",
       "2. **Declaring variables**: Se utiliza la palabra clave `var` o `=` para declarar una variable y asignarle un valor.\n",
       "3. **Sentencias condicionales**: Se utilizan para controlar el flujo del programa en función de condiciones específicas.\n",
       "4. **Ciclos**: Se utilizan para repetir bloques de código en función de condiciones específicas.\n",
       "\n",
       "**Ejemplo básico**\n",
       "\n",
       "python\n",
       "# Declaramos una variable y la asignamos un valor\n",
       "nombre = \"Juan\"\n",
       "\n",
       "# Imprimimos el valor de la variable\n",
       "print(\"Mi nombre es:\", nombre)\n",
       "\n",
       "# Verificamos si el nombre es igual a \"Juan\"\n",
       "if nombre == \"Juan\":\n",
       "    print(\"Sí, mi nombre es Juan\")\n",
       "else:\n",
       "    print(\"No, mi nombre no es Juan\")\n",
       "\n",
       "# Repetimos un bloque de código para saludar al usuario\n",
       "for i in range(5):\n",
       "    print(\"Hola, mundo!\")\n",
       "\n",
       "\n",
       "**Tipos de datos en Python**\n",
       "\n",
       "Python tiene varios tipos de datos:\n",
       "\n",
       "1. **Enteros**: Son números enteros sin puntos decimales.\n",
       "2. **Floats**: Son números con puntos decimales.\n",
       "3. **Cadenas de texto**: Son secuencias de caracteres que pueden contener letras, números y símbolos especiales.\n",
       "\n",
       "**Ejemplo de tipos de datos**\n",
       "\n",
       "python\n",
       "# Declaramos variables y las asignamos valores\n",
       "edad = 25\n",
       "altura = 1.75\n",
       "\n",
       "# Imprimimos los valores\n",
       "print(\"Mi edad es:\", edad)\n",
       "print(\"Mi altura es:\", altura)\n",
       "\n",
       "# Convertimos un valor a una cadena de texto\n",
       "nombre = \"Juan\"\n",
       "cadena = str(nombre)\n",
       "print(\"Mi nombre es:\", cadena)\n",
       "\n",
       "\n",
       "**Funciones**\n",
       "\n",
       "Las funciones son bloques de código que pueden ser llamados varias veces desde diferentes partes del programa. Se utilizan para reutilizar código y mejorar la legibilidad del programa.\n",
       "\n",
       "**Ejemplo de función**\n",
       "\n",
       "python\n",
       "def saludar(nombre):\n",
       "    print(\"Hola, \", nombre)\n",
       "\n",
       "# Llamamos a la función y le pasamos el valor del parámetro\n",
       "saludar(\"Juan\")\n",
       "\n",
       "\n",
       "**Conclusión**\n",
       "\n",
       "Python es un lenguaje de programación poderoso y flexible que ofrece muchas oportunidades para desarrolladores. Conocer sus características básicas es fundamental para empezar a escribir programas en Python. Recuerda que la práctica es la mejor manera de aprender, así que no tengas miedo de experimentar y probar nuevas cosas."
      ],
      "text/plain": [
       "<IPython.core.display.Markdown object>"
      ]
     },
     "metadata": {},
     "output_type": "display_data"
    },
    {
     "name": "stdout",
     "output_type": "stream",
     "text": [
      "            Escribe tu mensaje.\n",
      "            Escribe la palabra \"done\" para finalizar el mensaje y comenzar el chat.\n",
      "            \n",
      "            Escribe \"exit\" para salir del chat.\n",
      "        \n"
     ]
    }
   ],
   "source": [
    "# Inicialización del chatbot con la API de OpenAI\n",
    "chatbot = Chatbot('ollama')\n",
    "chatbot.chat()"
   ]
  },
  {
   "cell_type": "code",
   "execution_count": null,
   "id": "87ce3dc8-f8f4-4a64-91ce-835e01e47593",
   "metadata": {},
   "outputs": [],
   "source": []
  }
 ],
 "metadata": {
  "kernelspec": {
   "display_name": "Python 3 (ipykernel)",
   "language": "python",
   "name": "python3"
  },
  "language_info": {
   "codemirror_mode": {
    "name": "ipython",
    "version": 3
   },
   "file_extension": ".py",
   "mimetype": "text/x-python",
   "name": "python",
   "nbconvert_exporter": "python",
   "pygments_lexer": "ipython3",
   "version": "3.11.5"
  }
 },
 "nbformat": 4,
 "nbformat_minor": 5
}
